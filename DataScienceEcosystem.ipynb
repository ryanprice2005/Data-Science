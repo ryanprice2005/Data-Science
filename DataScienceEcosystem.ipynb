{
 "cells": [
  {
   "cell_type": "markdown",
   "id": "a552f32e",
   "metadata": {},
   "source": [
    "# Data Science Tools and Ecosystems"
   ]
  },
  {
   "cell_type": "markdown",
   "id": "f197da2d",
   "metadata": {},
   "source": [
    "In this notebook Data Science tools will be summarized."
   ]
  },
  {
   "cell_type": "markdown",
   "id": "34711d4b",
   "metadata": {},
   "source": [
    "Objectives:\n",
    "* List popular languages for Data Science\n",
    "* List Popular Libraries for Data Science\n",
    "* List IDE for Data Science Languages\n",
    "* Learn arthmetic functions in Python"
   ]
  },
  {
   "cell_type": "markdown",
   "id": "756ddc22",
   "metadata": {},
   "source": [
    "Some of the popular languages in Data Science are\n",
    "1. Python \n",
    "2. R\n",
    "3. Scala"
   ]
  },
  {
   "cell_type": "markdown",
   "id": "f04d4e81",
   "metadata": {},
   "source": [
    "Some of the most popular Libraries in Data Science are\n",
    "1. Pandas \n",
    "2. NumPy\n",
    "3. MatPlotLib\n",
    "4. Seaborn\n",
    "5. Pytorch"
   ]
  },
  {
   "cell_type": "markdown",
   "id": "0b09258c",
   "metadata": {},
   "source": [
    "##### Data Science tools\n",
    "\n",
    "1. Jupyter Lab\n",
    "2. Rstudio\n",
    "3. Spyder"
   ]
  },
  {
   "cell_type": "markdown",
   "id": "8ebad462",
   "metadata": {},
   "source": [
    "### Below are a few expressions of evaluating arithmetic expressions in Python\n"
   ]
  },
  {
   "cell_type": "code",
   "execution_count": 4,
   "id": "93c2c3d6",
   "metadata": {},
   "outputs": [
    {
     "data": {
      "text/plain": [
       "17"
      ]
     },
     "execution_count": 4,
     "metadata": {},
     "output_type": "execute_result"
    }
   ],
   "source": [
    "(3*4)+ 5\n",
    "#This is a simple arithmetic operation to multiply then add the integers"
   ]
  },
  {
   "cell_type": "code",
   "execution_count": 6,
   "id": "9844a71c",
   "metadata": {},
   "outputs": [
    {
     "data": {
      "text/plain": [
       "3.3333333333333335"
      ]
     },
     "execution_count": 6,
     "metadata": {},
     "output_type": "execute_result"
    }
   ],
   "source": [
    "200 / 60\n",
    "# This operation will convert 200 minutes to hours by dividing by 60"
   ]
  },
  {
   "cell_type": "markdown",
   "id": "d0e36639",
   "metadata": {},
   "source": [
    "## Author\n",
    "James Ryan Price"
   ]
  }
 ],
 "metadata": {
  "kernelspec": {
   "display_name": "Python 3 (ipykernel)",
   "language": "python",
   "name": "python3"
  },
  "language_info": {
   "codemirror_mode": {
    "name": "ipython",
    "version": 3
   },
   "file_extension": ".py",
   "mimetype": "text/x-python",
   "name": "python",
   "nbconvert_exporter": "python",
   "pygments_lexer": "ipython3",
   "version": "3.11.5"
  }
 },
 "nbformat": 4,
 "nbformat_minor": 5
}
